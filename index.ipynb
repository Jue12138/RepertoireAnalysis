{
 "cells": [
  {
   "cell_type": "markdown",
   "id": "60e92606",
   "metadata": {},
   "source": [
    "# Repertoire Analysis of American Full-time Symphony Orchestra"
   ]
  },
  {
   "cell_type": "markdown",
   "id": "5cf8a54a",
   "metadata": {},
   "source": [
    "## Introduction"
   ]
  },
  {
   "cell_type": "markdown",
   "id": "5f03192c",
   "metadata": {},
   "source": [
    "A symphony orchestra is defined as a large ensemble composed of strings, woodwinds, brass, percussion, and keyboards that play classical music. The origin of the modern symphony orchestra was in Europe in the 17th century, which was also the time when classical music emerged. The music prior to this was dominated by church music and polyphonic vocals. With the arrival of the Baroque period represented by Bach, instrumental music gradually emerged at that time, so the symphony orchestra appeared. The earliest symphony orchestras may have only a small number of strings and woodwinds, and the size of the orchestra is less than 50 people. With the development of classical music and the complexity of harmony and musical structure, composers require more and more types of instruments and parts to be added to enrich the depth of the work. Contemporary symphony orchestras can reach the size of hundreds of people."
   ]
  },
  {
   "cell_type": "markdown",
   "id": "34b6832a",
   "metadata": {},
   "source": [
    "Classical music can be roughly divided into four periods in the history of more than 400 years. The first period is 1600-1750, this period is called the Baroque period, and the representative composers include Bach, Handel, etc. The second period is 1750-1820, known as the classical period, and representative composers include Haydn, Mozart, Beethoven, etc. The third period is 1820-1910, this period is called the Romantic period, and the representative composers include Brahms, Schubert, Schumann, etc. The fourth period is from 1910 to the present, known as the period of modernism, which represents composers from all over the world and has its own unique style. This project is also analyzed in the context of these four periods."
   ]
  },
  {
   "cell_type": "markdown",
   "id": "c66eb738",
   "metadata": {},
   "source": [
    "This project refers to the public database of the Baltimore Symphony Orchestra on its official website, and counts all the performance data of the full-time symphony orchestras in the United States in the three music seasons from 2014 to 2017. The data includes the name of the symphony orchestra, concert name, performance time, performance times, work name, composer name, nationality, gender and composition time, etc. I select a few of them: the name of the symphony orchestra, performance time, composition time, performance times and other information, and analyze the frequency of each symphony orchestra performing works of different periods in the past three years and the proportion of the total performance season, so as to reflect the contemporary American symphony orchestras for playing preferences of works from different periods. Also predicts and analyzes trends in the performance of contemporary works by full-time symphony orchestras in the United States."
   ]
  },
  {
   "cell_type": "markdown",
   "id": "14444bf2",
   "metadata": {},
   "source": [
    "## Part 1: Data Collection"
   ]
  },
  {
   "cell_type": "code",
   "execution_count": 1,
   "id": "4805e6cc",
   "metadata": {},
   "outputs": [],
   "source": [
    "# Libraries and imports required to complete this tutorial\n",
    "import warnings\n",
    "import pandas as pd\n",
    "import numpy as np\n",
    "import seaborn as sns\n",
    "import matplotlib.pyplot as plt\n",
    "from functools import reduce\n",
    "from sklearn import linear_model\n",
    "from sklearn.preprocessing import LabelEncoder\n",
    "\n",
    "# Ignore some warnings\n",
    "warnings.filterwarnings('ignore', category=UserWarning, module='openpyxl')\n",
    "pd.options.mode.chained_assignment = None"
   ]
  },
  {
   "cell_type": "markdown",
   "id": "765a3506",
   "metadata": {},
   "source": [
    "The data is all the repertoires of the 22 largest symphony orchestras in the United States in the 2014-2015 season. It comes from the official website of the Baltimore Symphony Orchestra. The data can be obtained from [here](https://www.bsomusic.org/stories/the-orchestra-season-by-the-numbers-database.aspx)."
   ]
  },
  {
   "cell_type": "code",
   "execution_count": 2,
   "id": "79a456e6",
   "metadata": {},
   "outputs": [
    {
     "data": {
      "text/html": [
       "<div>\n",
       "<style scoped>\n",
       "    .dataframe tbody tr th:only-of-type {\n",
       "        vertical-align: middle;\n",
       "    }\n",
       "\n",
       "    .dataframe tbody tr th {\n",
       "        vertical-align: top;\n",
       "    }\n",
       "\n",
       "    .dataframe thead th {\n",
       "        text-align: right;\n",
       "    }\n",
       "</style>\n",
       "<table border=\"1\" class=\"dataframe\">\n",
       "  <thead>\n",
       "    <tr style=\"text-align: right;\">\n",
       "      <th></th>\n",
       "      <th>Orchestra</th>\n",
       "      <th>Concert</th>\n",
       "      <th>FirstDate</th>\n",
       "      <th># of Shows</th>\n",
       "      <th>Piece</th>\n",
       "      <th>Composer</th>\n",
       "      <th>Composer Nationality</th>\n",
       "      <th>CompositionDate</th>\n",
       "      <th>Living / Dead</th>\n",
       "      <th>Gender</th>\n",
       "      <th>Soloists</th>\n",
       "    </tr>\n",
       "  </thead>\n",
       "  <tbody>\n",
       "    <tr>\n",
       "      <th>0</th>\n",
       "      <td>Minnesota Orchestra</td>\n",
       "      <td>Musician Spotlight: Celebrating John Miller, Jr.</td>\n",
       "      <td>2014-11-22</td>\n",
       "      <td>3</td>\n",
       "      <td>[Brass selection to be announced]</td>\n",
       "      <td>Giovanni Gabrieli</td>\n",
       "      <td>Italian</td>\n",
       "      <td>NaN</td>\n",
       "      <td>Dead</td>\n",
       "      <td>Male</td>\n",
       "      <td>NaN</td>\n",
       "    </tr>\n",
       "    <tr>\n",
       "      <th>1</th>\n",
       "      <td>Boston Symphony Orchestra</td>\n",
       "      <td>Andris Nelsons conducts Gandolfi and Mahler fe...</td>\n",
       "      <td>2015-03-26</td>\n",
       "      <td>4</td>\n",
       "      <td>New work for organ and orchestra</td>\n",
       "      <td>Michael Gandolfi</td>\n",
       "      <td>American</td>\n",
       "      <td>2015.0</td>\n",
       "      <td>Living</td>\n",
       "      <td>Male</td>\n",
       "      <td>Olivier Latry</td>\n",
       "    </tr>\n",
       "    <tr>\n",
       "      <th>2</th>\n",
       "      <td>Los Angeles Philharmonic</td>\n",
       "      <td>Górecki's Fourth Symphony</td>\n",
       "      <td>2015-01-16</td>\n",
       "      <td>3</td>\n",
       "      <td>Symphony No. 4 (unfinished at death, finished ...</td>\n",
       "      <td>Henryk Górecki</td>\n",
       "      <td>Polish</td>\n",
       "      <td>2015.0</td>\n",
       "      <td>Dead</td>\n",
       "      <td>Male</td>\n",
       "      <td>NaN</td>\n",
       "    </tr>\n",
       "    <tr>\n",
       "      <th>3</th>\n",
       "      <td>St. Louis Symphony</td>\n",
       "      <td>Brahms Piano Concerto No. 2</td>\n",
       "      <td>2015-04-25</td>\n",
       "      <td>2</td>\n",
       "      <td>Frenesia</td>\n",
       "      <td>Detlev Glanert</td>\n",
       "      <td>German</td>\n",
       "      <td>2013.0</td>\n",
       "      <td>Living</td>\n",
       "      <td>Male</td>\n",
       "      <td>NaN</td>\n",
       "    </tr>\n",
       "    <tr>\n",
       "      <th>4</th>\n",
       "      <td>Los Angeles Philharmonic</td>\n",
       "      <td>Green Umbrella: European Avant-Garde</td>\n",
       "      <td>2014-12-09</td>\n",
       "      <td>4</td>\n",
       "      <td>Amok Koma</td>\n",
       "      <td>Fausto Romitelli</td>\n",
       "      <td>Italian</td>\n",
       "      <td>2001.0</td>\n",
       "      <td>Dead</td>\n",
       "      <td>Male</td>\n",
       "      <td>NaN</td>\n",
       "    </tr>\n",
       "  </tbody>\n",
       "</table>\n",
       "</div>"
      ],
      "text/plain": [
       "                   Orchestra  \\\n",
       "0        Minnesota Orchestra   \n",
       "1  Boston Symphony Orchestra   \n",
       "2   Los Angeles Philharmonic   \n",
       "3         St. Louis Symphony   \n",
       "4   Los Angeles Philharmonic   \n",
       "\n",
       "                                             Concert  FirstDate  # of Shows  \\\n",
       "0   Musician Spotlight: Celebrating John Miller, Jr. 2014-11-22           3   \n",
       "1  Andris Nelsons conducts Gandolfi and Mahler fe... 2015-03-26           4   \n",
       "2                          Górecki's Fourth Symphony 2015-01-16           3   \n",
       "3                        Brahms Piano Concerto No. 2 2015-04-25           2   \n",
       "4               Green Umbrella: European Avant-Garde 2014-12-09           4   \n",
       "\n",
       "                                               Piece           Composer  \\\n",
       "0                  [Brass selection to be announced]  Giovanni Gabrieli   \n",
       "1                   New work for organ and orchestra   Michael Gandolfi   \n",
       "2  Symphony No. 4 (unfinished at death, finished ...     Henryk Górecki   \n",
       "3                                           Frenesia     Detlev Glanert   \n",
       "4                                          Amok Koma   Fausto Romitelli   \n",
       "\n",
       "  Composer Nationality  CompositionDate Living / Dead Gender       Soloists  \n",
       "0              Italian              NaN          Dead   Male            NaN  \n",
       "1             American           2015.0        Living   Male  Olivier Latry  \n",
       "2               Polish           2015.0          Dead   Male            NaN  \n",
       "3               German           2013.0        Living   Male            NaN  \n",
       "4              Italian           2001.0          Dead   Male            NaN  "
      ]
     },
     "execution_count": 2,
     "metadata": {},
     "output_type": "execute_result"
    }
   ],
   "source": [
    "# Import 2014-2015 music season data, change some column names\n",
    "df14 = pd.read_excel('2014-15 Orchestra Programming.xlsx')\n",
    "df14.rename({'Composition Date' : 'CompositionDate'}, axis=1, inplace=True)\n",
    "df14.rename({'First Date' : 'FirstDate'}, axis=1, inplace=True)\n",
    "df14.head()"
   ]
  },
  {
   "cell_type": "markdown",
   "id": "26b93a82",
   "metadata": {},
   "source": [
    "This data is the 2015-2016 season of the 89 largest symphony orchestras in the U.S. as of August 2015 with membership in the League of American Orchestras all performances, also from the official website of the Baltimore Symphony Orchestra. The data can be obtained from [here](https://www.bsomusic.org/stories/by-the-numbers-2015-2016-database.aspx)."
   ]
  },
  {
   "cell_type": "code",
   "execution_count": 3,
   "id": "38b71036",
   "metadata": {},
   "outputs": [
    {
     "data": {
      "text/html": [
       "<div>\n",
       "<style scoped>\n",
       "    .dataframe tbody tr th:only-of-type {\n",
       "        vertical-align: middle;\n",
       "    }\n",
       "\n",
       "    .dataframe tbody tr th {\n",
       "        vertical-align: top;\n",
       "    }\n",
       "\n",
       "    .dataframe thead th {\n",
       "        text-align: right;\n",
       "    }\n",
       "</style>\n",
       "<table border=\"1\" class=\"dataframe\">\n",
       "  <thead>\n",
       "    <tr style=\"text-align: right;\">\n",
       "      <th></th>\n",
       "      <th>Orchestra</th>\n",
       "      <th>Concert</th>\n",
       "      <th>FirstDate</th>\n",
       "      <th># of Shows</th>\n",
       "      <th>Piece</th>\n",
       "      <th>Composer</th>\n",
       "      <th>Composer Nationality</th>\n",
       "      <th>CompositionDate</th>\n",
       "      <th>Living / Dead</th>\n",
       "      <th>Gender</th>\n",
       "      <th>Soloists</th>\n",
       "    </tr>\n",
       "  </thead>\n",
       "  <tbody>\n",
       "    <tr>\n",
       "      <th>0</th>\n",
       "      <td>Alabama Symphony Orchestra</td>\n",
       "      <td>Carlos Izcaray Conducts Strauss</td>\n",
       "      <td>2015-09-18 00:00:00</td>\n",
       "      <td>2</td>\n",
       "      <td>Mannheim Rocket</td>\n",
       "      <td>John Corigliano</td>\n",
       "      <td>American</td>\n",
       "      <td>2000.0</td>\n",
       "      <td>Living</td>\n",
       "      <td>Male</td>\n",
       "      <td>NaN</td>\n",
       "    </tr>\n",
       "    <tr>\n",
       "      <th>1</th>\n",
       "      <td>Alabama Symphony Orchestra</td>\n",
       "      <td>Carlos Izcaray Conducts Strauss</td>\n",
       "      <td>2015-09-18 00:00:00</td>\n",
       "      <td>2</td>\n",
       "      <td>Tambor</td>\n",
       "      <td>Joan Tower</td>\n",
       "      <td>American</td>\n",
       "      <td>1998.0</td>\n",
       "      <td>Living</td>\n",
       "      <td>Female</td>\n",
       "      <td>NaN</td>\n",
       "    </tr>\n",
       "    <tr>\n",
       "      <th>2</th>\n",
       "      <td>Alabama Symphony Orchestra</td>\n",
       "      <td>Carlos Izcaray Conducts Strauss</td>\n",
       "      <td>2015-09-18 00:00:00</td>\n",
       "      <td>2</td>\n",
       "      <td>Violin Concerto in D major</td>\n",
       "      <td>Erich Wolfgang Korngold</td>\n",
       "      <td>Austrian</td>\n",
       "      <td>1945.0</td>\n",
       "      <td>Dead</td>\n",
       "      <td>Male</td>\n",
       "      <td>Elena Urioste, violin</td>\n",
       "    </tr>\n",
       "    <tr>\n",
       "      <th>3</th>\n",
       "      <td>Alabama Symphony Orchestra</td>\n",
       "      <td>Carlos Izcaray Conducts Strauss</td>\n",
       "      <td>2015-09-18 00:00:00</td>\n",
       "      <td>2</td>\n",
       "      <td>Der Rosenkavalier Suite</td>\n",
       "      <td>Richard Strauss</td>\n",
       "      <td>German</td>\n",
       "      <td>1911.0</td>\n",
       "      <td>Dead</td>\n",
       "      <td>Male</td>\n",
       "      <td>NaN</td>\n",
       "    </tr>\n",
       "    <tr>\n",
       "      <th>4</th>\n",
       "      <td>Alabama Symphony Orchestra</td>\n",
       "      <td>Joyce Yang Plays Liszt + Coffee</td>\n",
       "      <td>2015-10-09 00:00:00</td>\n",
       "      <td>3</td>\n",
       "      <td>Nights in the Gardens of Spain</td>\n",
       "      <td>Manuel de Falla</td>\n",
       "      <td>Spanish</td>\n",
       "      <td>1915.0</td>\n",
       "      <td>Dead</td>\n",
       "      <td>Male</td>\n",
       "      <td>Joyce Yang, piano</td>\n",
       "    </tr>\n",
       "  </tbody>\n",
       "</table>\n",
       "</div>"
      ],
      "text/plain": [
       "                    Orchestra                          Concert  \\\n",
       "0  Alabama Symphony Orchestra  Carlos Izcaray Conducts Strauss   \n",
       "1  Alabama Symphony Orchestra  Carlos Izcaray Conducts Strauss   \n",
       "2  Alabama Symphony Orchestra  Carlos Izcaray Conducts Strauss   \n",
       "3  Alabama Symphony Orchestra  Carlos Izcaray Conducts Strauss   \n",
       "4  Alabama Symphony Orchestra  Joyce Yang Plays Liszt + Coffee   \n",
       "\n",
       "             FirstDate  # of Shows                            Piece  \\\n",
       "0  2015-09-18 00:00:00           2                  Mannheim Rocket   \n",
       "1  2015-09-18 00:00:00           2                           Tambor   \n",
       "2  2015-09-18 00:00:00           2       Violin Concerto in D major   \n",
       "3  2015-09-18 00:00:00           2          Der Rosenkavalier Suite   \n",
       "4  2015-10-09 00:00:00           3  Nights in the Gardens of Spain    \n",
       "\n",
       "                  Composer Composer Nationality  CompositionDate  \\\n",
       "0          John Corigliano             American           2000.0   \n",
       "1               Joan Tower             American           1998.0   \n",
       "2  Erich Wolfgang Korngold             Austrian           1945.0   \n",
       "3          Richard Strauss               German           1911.0   \n",
       "4          Manuel de Falla              Spanish           1915.0   \n",
       "\n",
       "  Living / Dead  Gender               Soloists  \n",
       "0        Living    Male                    NaN  \n",
       "1        Living  Female                    NaN  \n",
       "2          Dead    Male  Elena Urioste, violin  \n",
       "3          Dead    Male                    NaN  \n",
       "4          Dead    Male      Joyce Yang, piano  "
      ]
     },
     "execution_count": 3,
     "metadata": {},
     "output_type": "execute_result"
    }
   ],
   "source": [
    "# Import 2015-2016 music season data, change some column names\n",
    "# Remove the row about the empty data in the CompositionDate column\n",
    "df15 = pd.read_excel('2015-2016 Programming Data.xlsx')\n",
    "df15.rename({'Composition Date' : 'CompositionDate'}, axis=1, inplace=True)\n",
    "df15.rename({'First Date' : 'FirstDate'}, axis=1, inplace=True)\n",
    "df15['CompositionDate'] = pd.to_numeric(df15['CompositionDate'], errors='coerce')\n",
    "df15 = df15.dropna(subset=['CompositionDate'])\n",
    "df15.head()"
   ]
  },
  {
   "cell_type": "markdown",
   "id": "5374de9a",
   "metadata": {},
   "source": [
    "The data is the repertoire of the 85 major full-time symphony orchestras in the United States in the 2016-2017 season. The data comes from the official website of the Baltimore Symphony Orchestra [here](https://www.bsomusic.org/stories/the-data-behind-the-2016-2017-orchestra-season/)."
   ]
  },
  {
   "cell_type": "code",
   "execution_count": 4,
   "id": "73e6f840",
   "metadata": {},
   "outputs": [
    {
     "data": {
      "text/html": [
       "<div>\n",
       "<style scoped>\n",
       "    .dataframe tbody tr th:only-of-type {\n",
       "        vertical-align: middle;\n",
       "    }\n",
       "\n",
       "    .dataframe tbody tr th {\n",
       "        vertical-align: top;\n",
       "    }\n",
       "\n",
       "    .dataframe thead th {\n",
       "        text-align: right;\n",
       "    }\n",
       "</style>\n",
       "<table border=\"1\" class=\"dataframe\">\n",
       "  <thead>\n",
       "    <tr style=\"text-align: right;\">\n",
       "      <th></th>\n",
       "      <th>Orchestra</th>\n",
       "      <th>Concert</th>\n",
       "      <th>FirstDate</th>\n",
       "      <th># of Shows</th>\n",
       "      <th>Piece</th>\n",
       "      <th>Composer</th>\n",
       "      <th>Composer Nationality</th>\n",
       "      <th>CompositionDate</th>\n",
       "      <th>Living / Dead</th>\n",
       "      <th>Gender</th>\n",
       "      <th>Conductor</th>\n",
       "      <th>Conductor Nationality</th>\n",
       "      <th>Conductor Gender</th>\n",
       "      <th>Soloist</th>\n",
       "      <th>Instrument</th>\n",
       "    </tr>\n",
       "  </thead>\n",
       "  <tbody>\n",
       "    <tr>\n",
       "      <th>0</th>\n",
       "      <td>New York Philharmonic</td>\n",
       "      <td>Salonen Conducts Saariaho at the Armory</td>\n",
       "      <td>2016-10-13</td>\n",
       "      <td>2.0</td>\n",
       "      <td>D’OM LE VRAI SENS, for Clarinet and Orchestra</td>\n",
       "      <td>Saariaho, Kaija</td>\n",
       "      <td>Finnish</td>\n",
       "      <td>2010.0</td>\n",
       "      <td>Living</td>\n",
       "      <td>Female</td>\n",
       "      <td>Esa-Pekka Salonen</td>\n",
       "      <td>Finnish</td>\n",
       "      <td>Male</td>\n",
       "      <td>Kari Kriikku</td>\n",
       "      <td>Clarinet</td>\n",
       "    </tr>\n",
       "    <tr>\n",
       "      <th>1</th>\n",
       "      <td>Albany Symphony</td>\n",
       "      <td>American Music Festival</td>\n",
       "      <td>2017-06-03</td>\n",
       "      <td>1.0</td>\n",
       "      <td>Clarinet Concerto</td>\n",
       "      <td>Esmail, Reena</td>\n",
       "      <td>American</td>\n",
       "      <td>2017.0</td>\n",
       "      <td>Living</td>\n",
       "      <td>Female</td>\n",
       "      <td>David Alan Miller</td>\n",
       "      <td>American</td>\n",
       "      <td>Male</td>\n",
       "      <td>Shankar Tucker</td>\n",
       "      <td>clarinet</td>\n",
       "    </tr>\n",
       "    <tr>\n",
       "      <th>2</th>\n",
       "      <td>Rochester Philharmonic Orchestra</td>\n",
       "      <td>Higdon, Copland &amp; Barber</td>\n",
       "      <td>2016-11-03</td>\n",
       "      <td>2.0</td>\n",
       "      <td>Percussion Concerto</td>\n",
       "      <td>Higdon, Jennifer</td>\n",
       "      <td>American</td>\n",
       "      <td>2005.0</td>\n",
       "      <td>Living</td>\n",
       "      <td>Female</td>\n",
       "      <td>Ward Stare</td>\n",
       "      <td>American</td>\n",
       "      <td>Male</td>\n",
       "      <td>Colin Currie</td>\n",
       "      <td>percussion</td>\n",
       "    </tr>\n",
       "    <tr>\n",
       "      <th>3</th>\n",
       "      <td>Alabama Symphony Orchestra</td>\n",
       "      <td>Sound Edge Festival: Rhythms of Life</td>\n",
       "      <td>2017-02-16</td>\n",
       "      <td>1.0</td>\n",
       "      <td>EchoTempo for Soprano, Percussion, and Orchestra</td>\n",
       "      <td>Botti, Susan</td>\n",
       "      <td>American</td>\n",
       "      <td>2001.0</td>\n",
       "      <td>Living</td>\n",
       "      <td>Female</td>\n",
       "      <td>Carlos Izcaray</td>\n",
       "      <td>Venezuelan</td>\n",
       "      <td>Male</td>\n",
       "      <td>Ted Atkatz, Percussion; Susan Botti, Soprano</td>\n",
       "      <td>percussion + soprano</td>\n",
       "    </tr>\n",
       "    <tr>\n",
       "      <th>4</th>\n",
       "      <td>Orchestra Iowa</td>\n",
       "      <td>Marsalis in Iowa</td>\n",
       "      <td>2017-03-10</td>\n",
       "      <td>2.0</td>\n",
       "      <td>Under the Wing of the Rock</td>\n",
       "      <td>Beamish, Sally</td>\n",
       "      <td>English</td>\n",
       "      <td>2009.0</td>\n",
       "      <td>Living</td>\n",
       "      <td>Female</td>\n",
       "      <td>Timothy Hankewich</td>\n",
       "      <td>American</td>\n",
       "      <td>Male</td>\n",
       "      <td>Branford Marsalis</td>\n",
       "      <td>saxophone</td>\n",
       "    </tr>\n",
       "  </tbody>\n",
       "</table>\n",
       "</div>"
      ],
      "text/plain": [
       "                          Orchestra                                  Concert  \\\n",
       "0             New York Philharmonic  Salonen Conducts Saariaho at the Armory   \n",
       "1                   Albany Symphony                  American Music Festival   \n",
       "2  Rochester Philharmonic Orchestra                 Higdon, Copland & Barber   \n",
       "3        Alabama Symphony Orchestra     Sound Edge Festival: Rhythms of Life   \n",
       "4                    Orchestra Iowa                         Marsalis in Iowa   \n",
       "\n",
       "   FirstDate  # of Shows                                             Piece  \\\n",
       "0 2016-10-13         2.0     D’OM LE VRAI SENS, for Clarinet and Orchestra   \n",
       "1 2017-06-03         1.0                                 Clarinet Concerto   \n",
       "2 2016-11-03         2.0                               Percussion Concerto   \n",
       "3 2017-02-16         1.0  EchoTempo for Soprano, Percussion, and Orchestra   \n",
       "4 2017-03-10         2.0                        Under the Wing of the Rock   \n",
       "\n",
       "           Composer Composer Nationality  CompositionDate Living / Dead  \\\n",
       "0   Saariaho, Kaija              Finnish           2010.0        Living   \n",
       "1     Esmail, Reena             American           2017.0        Living   \n",
       "2  Higdon, Jennifer             American           2005.0        Living   \n",
       "3      Botti, Susan             American           2001.0        Living   \n",
       "4    Beamish, Sally              English           2009.0        Living   \n",
       "\n",
       "   Gender          Conductor Conductor Nationality Conductor Gender  \\\n",
       "0  Female  Esa-Pekka Salonen               Finnish             Male   \n",
       "1  Female  David Alan Miller              American             Male   \n",
       "2  Female         Ward Stare              American             Male   \n",
       "3  Female     Carlos Izcaray            Venezuelan             Male   \n",
       "4  Female  Timothy Hankewich              American             Male   \n",
       "\n",
       "                                        Soloist            Instrument  \n",
       "0                                  Kari Kriikku              Clarinet  \n",
       "1                                Shankar Tucker              clarinet  \n",
       "2                                  Colin Currie            percussion  \n",
       "3  Ted Atkatz, Percussion; Susan Botti, Soprano  percussion + soprano  \n",
       "4                             Branford Marsalis             saxophone  "
      ]
     },
     "execution_count": 4,
     "metadata": {},
     "output_type": "execute_result"
    }
   ],
   "source": [
    "# Import 2016-2017 music season data, change some column names\n",
    "# Remove the row about the empty data in the CompositionDate column\n",
    "df16 = pd.read_excel('2016-2017 Programming Data.xlsx')\n",
    "df16.rename({'Composition Date' : 'CompositionDate'}, axis=1, inplace=True)\n",
    "df16.rename({'First Date' : 'FirstDate'}, axis=1, inplace=True)\n",
    "df16['CompositionDate'] = pd.to_numeric(df16['CompositionDate'], errors='coerce')\n",
    "df16 = df16.dropna(subset=['CompositionDate'])\n",
    "df16.head()"
   ]
  },
  {
   "cell_type": "markdown",
   "id": "04067f7f",
   "metadata": {},
   "source": [
    "After reading all three years of performance data, we next started to integrate the data."
   ]
  },
  {
   "cell_type": "markdown",
   "id": "8859d46b",
   "metadata": {},
   "source": [
    "## Part 2: Data Management"
   ]
  },
  {
   "cell_type": "markdown",
   "id": "5f791adc",
   "metadata": {},
   "source": [
    "According to the composition time, the above three data are divided into four different musical periods. And calculate the sum of the works of different periods performed by each symphony orchestra every year. Say this data is divided into four separate dataframes. Each dataframe includes band name, 2014 performance data, 2015 performance data, and 2016 performance data."
   ]
  },
  {
   "cell_type": "code",
   "execution_count": 5,
   "id": "95bd4d8b",
   "metadata": {
    "scrolled": true
   },
   "outputs": [],
   "source": [
    "# Add a new column named Peried to the above three dataframes according to the composition time, marking the period to which the work belongs\n",
    "df14['Peried'] = df14['CompositionDate'].apply(lambda value: 'Baroque' if value <= 1750 else ('Classical' if value <= 1820 else ('Romanticism' if value <= 1910 else 'Contemporary')))\n",
    "df15['Peried'] = df15['CompositionDate'].apply(lambda value: 'Baroque' if value <= 1750 else ('Classical' if value <= 1820 else ('Romanticism' if value <= 1910 else 'Contemporary')))\n",
    "df16['Peried'] = df16['CompositionDate'].apply(lambda value: 'Baroque' if value <= 1750 else ('Classical' if value <= 1820 else ('Romanticism' if value <= 1910 else 'Contemporary')))"
   ]
  },
  {
   "cell_type": "markdown",
   "id": "1a3d18b4",
   "metadata": {},
   "source": [
    "The table is the sum of the Baroque works performed by each symphony orchestra each year."
   ]
  },
  {
   "cell_type": "code",
   "execution_count": 6,
   "id": "b3dbe2c4",
   "metadata": {},
   "outputs": [
    {
     "data": {
      "text/html": [
       "<div>\n",
       "<style scoped>\n",
       "    .dataframe tbody tr th:only-of-type {\n",
       "        vertical-align: middle;\n",
       "    }\n",
       "\n",
       "    .dataframe tbody tr th {\n",
       "        vertical-align: top;\n",
       "    }\n",
       "\n",
       "    .dataframe thead th {\n",
       "        text-align: right;\n",
       "    }\n",
       "</style>\n",
       "<table border=\"1\" class=\"dataframe\">\n",
       "  <thead>\n",
       "    <tr style=\"text-align: right;\">\n",
       "      <th></th>\n",
       "      <th>Orchestra</th>\n",
       "      <th>Baroque-2014</th>\n",
       "      <th>Baroque-2015</th>\n",
       "      <th>Baroque-2016</th>\n",
       "    </tr>\n",
       "  </thead>\n",
       "  <tbody>\n",
       "    <tr>\n",
       "      <th>0</th>\n",
       "      <td>Atlanta Symphony Orchestra</td>\n",
       "      <td>1.0</td>\n",
       "      <td>1.0</td>\n",
       "      <td>2.0</td>\n",
       "    </tr>\n",
       "    <tr>\n",
       "      <th>1</th>\n",
       "      <td>Baltimore Symphony Orchestra</td>\n",
       "      <td>3.0</td>\n",
       "      <td>7.0</td>\n",
       "      <td>2.0</td>\n",
       "    </tr>\n",
       "    <tr>\n",
       "      <th>2</th>\n",
       "      <td>Boston Symphony Orchestra</td>\n",
       "      <td>1.0</td>\n",
       "      <td>2.0</td>\n",
       "      <td>2.0</td>\n",
       "    </tr>\n",
       "    <tr>\n",
       "      <th>3</th>\n",
       "      <td>Chicago Symphony Orchestra</td>\n",
       "      <td>9.0</td>\n",
       "      <td>4.0</td>\n",
       "      <td>14.0</td>\n",
       "    </tr>\n",
       "    <tr>\n",
       "      <th>4</th>\n",
       "      <td>Cincinnati Symphony Orchestra</td>\n",
       "      <td>1.0</td>\n",
       "      <td>NaN</td>\n",
       "      <td>5.0</td>\n",
       "    </tr>\n",
       "  </tbody>\n",
       "</table>\n",
       "</div>"
      ],
      "text/plain": [
       "                       Orchestra  Baroque-2014  Baroque-2015  Baroque-2016\n",
       "0     Atlanta Symphony Orchestra           1.0           1.0           2.0\n",
       "1   Baltimore Symphony Orchestra           3.0           7.0           2.0\n",
       "2      Boston Symphony Orchestra           1.0           2.0           2.0\n",
       "3     Chicago Symphony Orchestra           9.0           4.0          14.0\n",
       "4  Cincinnati Symphony Orchestra           1.0           NaN           5.0"
      ]
     },
     "execution_count": 6,
     "metadata": {},
     "output_type": "execute_result"
    }
   ],
   "source": [
    "# Filter out concerts belonging to the Baroque period in three dataframes and merge all data into a single dataframe\n",
    "df14_Baroque = df14.loc[df14['Peried'] == \"Baroque\"]\n",
    "df14_Baroque = df14_Baroque.groupby(\"Orchestra\", as_index = False)['Peried'].count()\n",
    "df14_Baroque.rename({'Peried' : 'Baroque-2014'}, axis=1, inplace=True)\n",
    "\n",
    "df15_Baroque = df15.loc[df15['Peried'] == \"Baroque\"]\n",
    "df15_Baroque = df15_Baroque.groupby(\"Orchestra\", as_index = False)['Peried'].count()\n",
    "df15_Baroque.rename({'Peried' : 'Baroque-2015'}, axis=1, inplace=True)\n",
    "\n",
    "df16_Baroque = df16.loc[df16['Peried'] == \"Baroque\"]\n",
    "df16_Baroque = df16_Baroque.groupby(\"Orchestra\", as_index = False)['Peried'].count()\n",
    "df16_Baroque.rename({'Peried' : 'Baroque-2016'}, axis=1, inplace=True)\n",
    "\n",
    "\n",
    "data_frames = [df14_Baroque, df15_Baroque, df16_Baroque]\n",
    "df_Baroque_merged = reduce(lambda  left,right: pd.merge(left,right,on=['Orchestra'],\n",
    "                                            how='outer'), data_frames)\n",
    "df_Baroque_merged.head()"
   ]
  },
  {
   "cell_type": "markdown",
   "id": "ced67e8c",
   "metadata": {},
   "source": [
    "The table is the sum of the Classical works performed by each symphony orchestra each year."
   ]
  },
  {
   "cell_type": "code",
   "execution_count": 7,
   "id": "7d27e4a6",
   "metadata": {},
   "outputs": [
    {
     "data": {
      "text/html": [
       "<div>\n",
       "<style scoped>\n",
       "    .dataframe tbody tr th:only-of-type {\n",
       "        vertical-align: middle;\n",
       "    }\n",
       "\n",
       "    .dataframe tbody tr th {\n",
       "        vertical-align: top;\n",
       "    }\n",
       "\n",
       "    .dataframe thead th {\n",
       "        text-align: right;\n",
       "    }\n",
       "</style>\n",
       "<table border=\"1\" class=\"dataframe\">\n",
       "  <thead>\n",
       "    <tr style=\"text-align: right;\">\n",
       "      <th></th>\n",
       "      <th>Orchestra</th>\n",
       "      <th>Classical-2014</th>\n",
       "      <th>Classical-2015</th>\n",
       "      <th>Classical-2016</th>\n",
       "    </tr>\n",
       "  </thead>\n",
       "  <tbody>\n",
       "    <tr>\n",
       "      <th>0</th>\n",
       "      <td>Atlanta Symphony Orchestra</td>\n",
       "      <td>14.0</td>\n",
       "      <td>9.0</td>\n",
       "      <td>9.0</td>\n",
       "    </tr>\n",
       "    <tr>\n",
       "      <th>1</th>\n",
       "      <td>Baltimore Symphony Orchestra</td>\n",
       "      <td>17.0</td>\n",
       "      <td>12.0</td>\n",
       "      <td>18.0</td>\n",
       "    </tr>\n",
       "    <tr>\n",
       "      <th>2</th>\n",
       "      <td>Boston Symphony Orchestra</td>\n",
       "      <td>16.0</td>\n",
       "      <td>15.0</td>\n",
       "      <td>12.0</td>\n",
       "    </tr>\n",
       "    <tr>\n",
       "      <th>3</th>\n",
       "      <td>Chicago Symphony Orchestra</td>\n",
       "      <td>12.0</td>\n",
       "      <td>22.0</td>\n",
       "      <td>23.0</td>\n",
       "    </tr>\n",
       "    <tr>\n",
       "      <th>4</th>\n",
       "      <td>Cincinnati Symphony Orchestra</td>\n",
       "      <td>8.0</td>\n",
       "      <td>4.0</td>\n",
       "      <td>5.0</td>\n",
       "    </tr>\n",
       "  </tbody>\n",
       "</table>\n",
       "</div>"
      ],
      "text/plain": [
       "                       Orchestra  Classical-2014  Classical-2015  \\\n",
       "0     Atlanta Symphony Orchestra            14.0             9.0   \n",
       "1   Baltimore Symphony Orchestra            17.0            12.0   \n",
       "2      Boston Symphony Orchestra            16.0            15.0   \n",
       "3     Chicago Symphony Orchestra            12.0            22.0   \n",
       "4  Cincinnati Symphony Orchestra             8.0             4.0   \n",
       "\n",
       "   Classical-2016  \n",
       "0             9.0  \n",
       "1            18.0  \n",
       "2            12.0  \n",
       "3            23.0  \n",
       "4             5.0  "
      ]
     },
     "execution_count": 7,
     "metadata": {},
     "output_type": "execute_result"
    }
   ],
   "source": [
    "# Filter out concerts belonging to the Classical period in three dataframes and merge all data into a single dataframe\n",
    "df14_Classical = df14.loc[df14['Peried'] == \"Classical\"]\n",
    "df14_Classical = df14_Classical.groupby(\"Orchestra\", as_index = False)['Peried'].count()\n",
    "df14_Classical.rename({'Peried' : 'Classical-2014'}, axis=1, inplace=True)\n",
    "\n",
    "df15_Classical = df15.loc[df15['Peried'] == \"Classical\"]\n",
    "df15_Classical = df15_Classical.groupby(\"Orchestra\", as_index = False)['Peried'].count()\n",
    "df15_Classical.rename({'Peried' : 'Classical-2015'}, axis=1, inplace=True)\n",
    "\n",
    "df16_Classical = df16.loc[df16['Peried'] == \"Classical\"]\n",
    "df16_Classical = df16_Classical.groupby(\"Orchestra\", as_index = False)['Peried'].count()\n",
    "df16_Classical.rename({'Peried' : 'Classical-2016'}, axis=1, inplace=True)\n",
    "\n",
    "\n",
    "data_frames = [df14_Classical, df15_Classical, df16_Classical]\n",
    "df_Classical_merged = reduce(lambda  left,right: pd.merge(left,right,on=['Orchestra'],\n",
    "                                            how='outer'), data_frames)\n",
    "df_Classical_merged.head()"
   ]
  },
  {
   "cell_type": "markdown",
   "id": "ee7f03d5",
   "metadata": {},
   "source": [
    "The table is the sum of the Romanticism works performed by each symphony orchestra each year."
   ]
  },
  {
   "cell_type": "code",
   "execution_count": 8,
   "id": "1f469872",
   "metadata": {},
   "outputs": [
    {
     "data": {
      "text/html": [
       "<div>\n",
       "<style scoped>\n",
       "    .dataframe tbody tr th:only-of-type {\n",
       "        vertical-align: middle;\n",
       "    }\n",
       "\n",
       "    .dataframe tbody tr th {\n",
       "        vertical-align: top;\n",
       "    }\n",
       "\n",
       "    .dataframe thead th {\n",
       "        text-align: right;\n",
       "    }\n",
       "</style>\n",
       "<table border=\"1\" class=\"dataframe\">\n",
       "  <thead>\n",
       "    <tr style=\"text-align: right;\">\n",
       "      <th></th>\n",
       "      <th>Orchestra</th>\n",
       "      <th>Romanticism-2014</th>\n",
       "      <th>Romanticism-2015</th>\n",
       "      <th>Romanticism-2016</th>\n",
       "    </tr>\n",
       "  </thead>\n",
       "  <tbody>\n",
       "    <tr>\n",
       "      <th>0</th>\n",
       "      <td>Atlanta Symphony Orchestra</td>\n",
       "      <td>43.0</td>\n",
       "      <td>37.0</td>\n",
       "      <td>25.0</td>\n",
       "    </tr>\n",
       "    <tr>\n",
       "      <th>1</th>\n",
       "      <td>Baltimore Symphony Orchestra</td>\n",
       "      <td>30.0</td>\n",
       "      <td>23.0</td>\n",
       "      <td>29.0</td>\n",
       "    </tr>\n",
       "    <tr>\n",
       "      <th>2</th>\n",
       "      <td>Boston Symphony Orchestra</td>\n",
       "      <td>34.0</td>\n",
       "      <td>28.0</td>\n",
       "      <td>29.0</td>\n",
       "    </tr>\n",
       "    <tr>\n",
       "      <th>3</th>\n",
       "      <td>Chicago Symphony Orchestra</td>\n",
       "      <td>61.0</td>\n",
       "      <td>38.0</td>\n",
       "      <td>56.0</td>\n",
       "    </tr>\n",
       "    <tr>\n",
       "      <th>4</th>\n",
       "      <td>Cincinnati Symphony Orchestra</td>\n",
       "      <td>27.0</td>\n",
       "      <td>27.0</td>\n",
       "      <td>26.0</td>\n",
       "    </tr>\n",
       "  </tbody>\n",
       "</table>\n",
       "</div>"
      ],
      "text/plain": [
       "                       Orchestra  Romanticism-2014  Romanticism-2015  \\\n",
       "0     Atlanta Symphony Orchestra              43.0              37.0   \n",
       "1   Baltimore Symphony Orchestra              30.0              23.0   \n",
       "2      Boston Symphony Orchestra              34.0              28.0   \n",
       "3     Chicago Symphony Orchestra              61.0              38.0   \n",
       "4  Cincinnati Symphony Orchestra              27.0              27.0   \n",
       "\n",
       "   Romanticism-2016  \n",
       "0              25.0  \n",
       "1              29.0  \n",
       "2              29.0  \n",
       "3              56.0  \n",
       "4              26.0  "
      ]
     },
     "execution_count": 8,
     "metadata": {},
     "output_type": "execute_result"
    }
   ],
   "source": [
    "# Filter out concerts belonging to the Romanticism period in three dataframes and merge all data into a single dataframe\n",
    "df14_Romanticism = df14.loc[df14['Peried'] == \"Romanticism\"]\n",
    "df14_Romanticism = df14_Romanticism.groupby(\"Orchestra\", as_index = False)['Peried'].count()\n",
    "df14_Romanticism.rename({'Peried' : 'Romanticism-2014'}, axis=1, inplace=True)\n",
    "\n",
    "df15_Romanticism = df15.loc[df15['Peried'] == \"Romanticism\"]\n",
    "df15_Romanticism = df15_Romanticism.groupby(\"Orchestra\", as_index = False)['Peried'].count()\n",
    "df15_Romanticism.rename({'Peried' : 'Romanticism-2015'}, axis=1, inplace=True)\n",
    "\n",
    "df16_Romanticism = df16.loc[df16['Peried'] == \"Romanticism\"]\n",
    "df16_Romanticism = df16_Romanticism.groupby(\"Orchestra\", as_index = False)['Peried'].count()\n",
    "df16_Romanticism.rename({'Peried' : 'Romanticism-2016'}, axis=1, inplace=True)\n",
    "\n",
    "\n",
    "data_frames = [df14_Romanticism, df15_Romanticism, df16_Romanticism]\n",
    "df_Romanticism_merged = reduce(lambda  left,right: pd.merge(left,right,on=['Orchestra'],\n",
    "                                            how='outer'), data_frames)\n",
    "df_Romanticism_merged.head()"
   ]
  },
  {
   "cell_type": "markdown",
   "id": "18e8051e",
   "metadata": {},
   "source": [
    "The table is the sum of the Contemporary works performed by each symphony orchestra each year."
   ]
  },
  {
   "cell_type": "code",
   "execution_count": 9,
   "id": "d4d9cfe2",
   "metadata": {},
   "outputs": [
    {
     "data": {
      "text/html": [
       "<div>\n",
       "<style scoped>\n",
       "    .dataframe tbody tr th:only-of-type {\n",
       "        vertical-align: middle;\n",
       "    }\n",
       "\n",
       "    .dataframe tbody tr th {\n",
       "        vertical-align: top;\n",
       "    }\n",
       "\n",
       "    .dataframe thead th {\n",
       "        text-align: right;\n",
       "    }\n",
       "</style>\n",
       "<table border=\"1\" class=\"dataframe\">\n",
       "  <thead>\n",
       "    <tr style=\"text-align: right;\">\n",
       "      <th></th>\n",
       "      <th>Orchestra</th>\n",
       "      <th>Contemporary-2014</th>\n",
       "      <th>Contemporary-2015</th>\n",
       "      <th>Contemporary-2016</th>\n",
       "    </tr>\n",
       "  </thead>\n",
       "  <tbody>\n",
       "    <tr>\n",
       "      <th>0</th>\n",
       "      <td>Atlanta Symphony Orchestra</td>\n",
       "      <td>25.0</td>\n",
       "      <td>21.0</td>\n",
       "      <td>35.0</td>\n",
       "    </tr>\n",
       "    <tr>\n",
       "      <th>1</th>\n",
       "      <td>Baltimore Symphony Orchestra</td>\n",
       "      <td>29.0</td>\n",
       "      <td>36.0</td>\n",
       "      <td>39.0</td>\n",
       "    </tr>\n",
       "    <tr>\n",
       "      <th>2</th>\n",
       "      <td>Boston Symphony Orchestra</td>\n",
       "      <td>29.0</td>\n",
       "      <td>34.0</td>\n",
       "      <td>35.0</td>\n",
       "    </tr>\n",
       "    <tr>\n",
       "      <th>3</th>\n",
       "      <td>Chicago Symphony Orchestra</td>\n",
       "      <td>49.0</td>\n",
       "      <td>51.0</td>\n",
       "      <td>50.0</td>\n",
       "    </tr>\n",
       "    <tr>\n",
       "      <th>4</th>\n",
       "      <td>Cincinnati Symphony Orchestra</td>\n",
       "      <td>25.0</td>\n",
       "      <td>21.0</td>\n",
       "      <td>23.0</td>\n",
       "    </tr>\n",
       "  </tbody>\n",
       "</table>\n",
       "</div>"
      ],
      "text/plain": [
       "                       Orchestra  Contemporary-2014  Contemporary-2015  \\\n",
       "0     Atlanta Symphony Orchestra               25.0               21.0   \n",
       "1   Baltimore Symphony Orchestra               29.0               36.0   \n",
       "2      Boston Symphony Orchestra               29.0               34.0   \n",
       "3     Chicago Symphony Orchestra               49.0               51.0   \n",
       "4  Cincinnati Symphony Orchestra               25.0               21.0   \n",
       "\n",
       "   Contemporary-2016  \n",
       "0               35.0  \n",
       "1               39.0  \n",
       "2               35.0  \n",
       "3               50.0  \n",
       "4               23.0  "
      ]
     },
     "execution_count": 9,
     "metadata": {},
     "output_type": "execute_result"
    }
   ],
   "source": [
    "# Filter out concerts belonging to the Contemporary period in three dataframes and merge all data into a single dataframe\n",
    "df14_Contemporary = df14.loc[df14['Peried'] == \"Contemporary\"]\n",
    "df14_Contemporary = df14_Contemporary.groupby(\"Orchestra\", as_index = False)['Peried'].count()\n",
    "df14_Contemporary.rename({'Peried' : 'Contemporary-2014'}, axis=1, inplace=True)\n",
    "\n",
    "df15_Contemporary = df15.loc[df15['Peried'] == \"Contemporary\"]\n",
    "df15_Contemporary = df15_Contemporary.groupby(\"Orchestra\", as_index = False)['Peried'].count()\n",
    "df15_Contemporary.rename({'Peried' : 'Contemporary-2015'}, axis=1, inplace=True)\n",
    "\n",
    "df16_Contemporary = df16.loc[df16['Peried'] == \"Contemporary\"]\n",
    "df16_Contemporary = df16_Contemporary.groupby(\"Orchestra\", as_index = False)['Peried'].count()\n",
    "df16_Contemporary.rename({'Peried' : 'Contemporary-2016'}, axis=1, inplace=True)\n",
    "\n",
    "\n",
    "data_frames = [df14_Contemporary, df15_Contemporary, df16_Contemporary]\n",
    "df_Contemporary_merged = reduce(lambda  left,right: pd.merge(left,right,on=['Orchestra'],\n",
    "                                            how='outer'), data_frames)\n",
    "df_Contemporary_merged.head()"
   ]
  },
  {
   "cell_type": "markdown",
   "id": "d89e7932",
   "metadata": {},
   "source": [
    "This integration method allows us to more clearly see the symphony orchestra's preference for the frequency of performances of works of different periods. At the same time, according to this data, we can also use this data to see whether the American symphony orchestra has the same trend when choosing repertoire. In the next part, we will start analyzing this data."
   ]
  },
  {
   "cell_type": "markdown",
   "id": "c59466ec",
   "metadata": {},
   "source": [
    "## Part 3: Data Analysis"
   ]
  },
  {
   "cell_type": "markdown",
   "id": "1bcb7350",
   "metadata": {},
   "source": [
    "Each of the three years of data provided on the Baltimore Symphony's website includes a different number of symphony orchestras, resulting in missing data for some symphony orchestras in one or two years. I think these missing data are specific and unpredictable without sufficient evidence, since I only keep a list of symphonies that have all three years of data"
   ]
  },
  {
   "cell_type": "code",
   "execution_count": 10,
   "id": "6abe439c",
   "metadata": {
    "scrolled": true
   },
   "outputs": [
    {
     "data": {
      "image/png": "[encoded data removed]",
      "text/plain": [
       "<Figure size 432x288 with 1 Axes>"
      ]
     },
     "metadata": {
      "needs_background": "light"
     },
     "output_type": "display_data"
    }
   ],
   "source": [
    "# Merge the three dataframes, removing rows with empty show times and periods.\n",
    "df = [df14, df15, df16]\n",
    "df = pd.concat(df)\n",
    "df = df.dropna(subset=['Peried'])\n",
    "df = df.dropna(subset=['FirstDate'])\n",
    "\n",
    "# Calculate the number of performances by each orchestra for each period of the three years and plot a graph\n",
    "df['Peried'] = df['Peried'].map({'Baroque': '1600-1750', 'Classical': '1750-1820', 'Romanticism': '1820-1910', 'Contemporary': '1910- '})\n",
    "df_group = df.groupby([\"Orchestra\", \"Peried\"]).size().reset_index(name=\"PerformanceTime\")\n",
    "\n",
    "sns.scatterplot(x = \"Peried\", y = \"PerformanceTime\", data = df_group)\n",
    "plt.title(\"Performance in 2014-2017\")\n",
    "plt.xlabel(\"Peried\")\n",
    "plt.ylabel(\"Performance Times\")\n",
    "plt.show()"
   ]
  },
  {
   "cell_type": "code",
   "execution_count": 11,
   "id": "454254aa",
   "metadata": {},
   "outputs": [
    {
     "data": {
      "image/png": "[encoded data removed]",
      "text/plain": [
       "<Figure size 432x288 with 1 Axes>"
      ]
     },
     "metadata": {
      "needs_background": "light"
     },
     "output_type": "display_data"
    }
   ],
   "source": [
    "# Draw a violin diagram based on the above image\n",
    "sns.violinplot(x = \"Peried\", y = \"PerformanceTime\", data = df_group)\n",
    "plt.title(\"Performance in 2014-2017 - Volin\")\n",
    "plt.xlabel(\"Peried\")\n",
    "plt.ylabel(\"Performance Times\")\n",
    "plt.show()"
   ]
  },
  {
   "cell_type": "markdown",
   "id": "e1225aaf",
   "metadata": {},
   "source": [
    "As can be seen from the above figure, generally speaking, the American Symphony Orchestra chooses more contemporary works for repertoire, and the frequency of performance decreases according to the time of creation and the time since then."
   ]
  },
  {
   "cell_type": "markdown",
   "id": "490057d7",
   "metadata": {},
   "source": [
    "Next, let's analyze the separate data for each symphony orchestra in these three years"
   ]
  },
  {
   "cell_type": "code",
   "execution_count": 12,
   "id": "1fcaa947",
   "metadata": {
    "scrolled": false
   },
   "outputs": [],
   "source": [
    "# Integrate previous separate data for the four periods.\n",
    "data_frames = [df_Baroque_merged, df_Classical_merged, df_Romanticism_merged, df_Contemporary_merged]\n",
    "df_merged = reduce(lambda  left,right: pd.merge(left,right,on=['Orchestra'],\n",
    "                                            how='outer'), data_frames)\n",
    "df_merged = df_merged.dropna()"
   ]
  },
  {
   "cell_type": "code",
   "execution_count": 13,
   "id": "c5d5dd7a",
   "metadata": {},
   "outputs": [
    {
     "data": {
      "text/html": [
       "<style type=\"text/css\">\n",
       "</style>\n",
       "<table id=\"T_6bd6e_\">\n",
       "  <thead>\n",
       "    <tr>\n",
       "      <th class=\"blank level0\" >&nbsp;</th>\n",
       "      <th class=\"col_heading level0 col0\" >Orchestra</th>\n",
       "      <th class=\"col_heading level0 col1\" >Baroque-2014</th>\n",
       "      <th class=\"col_heading level0 col2\" >Baroque-2015</th>\n",
       "      <th class=\"col_heading level0 col3\" >Baroque-2016</th>\n",
       "      <th class=\"col_heading level0 col4\" >Classical-2014</th>\n",
       "      <th class=\"col_heading level0 col5\" >Classical-2015</th>\n",
       "      <th class=\"col_heading level0 col6\" >Classical-2016</th>\n",
       "      <th class=\"col_heading level0 col7\" >Romanticism-2014</th>\n",
       "      <th class=\"col_heading level0 col8\" >Romanticism-2015</th>\n",
       "      <th class=\"col_heading level0 col9\" >Romanticism-2016</th>\n",
       "      <th class=\"col_heading level0 col10\" >Contemporary-2014</th>\n",
       "      <th class=\"col_heading level0 col11\" >Contemporary-2015</th>\n",
       "      <th class=\"col_heading level0 col12\" >Contemporary-2016</th>\n",
       "    </tr>\n",
       "  </thead>\n",
       "  <tbody>\n",
       "    <tr>\n",
       "      <th id=\"T_6bd6e_level0_row0\" class=\"row_heading level0 row0\" >0</th>\n",
       "      <td id=\"T_6bd6e_row0_col0\" class=\"data row0 col0\" >Atlanta Symphony Orchestra</td>\n",
       "      <td id=\"T_6bd6e_row0_col1\" class=\"data row0 col1\" >1.20%</td>\n",
       "      <td id=\"T_6bd6e_row0_col2\" class=\"data row0 col2\" >1.47%</td>\n",
       "      <td id=\"T_6bd6e_row0_col3\" class=\"data row0 col3\" >2.82%</td>\n",
       "      <td id=\"T_6bd6e_row0_col4\" class=\"data row0 col4\" >16.87%</td>\n",
       "      <td id=\"T_6bd6e_row0_col5\" class=\"data row0 col5\" >13.24%</td>\n",
       "      <td id=\"T_6bd6e_row0_col6\" class=\"data row0 col6\" >12.68%</td>\n",
       "      <td id=\"T_6bd6e_row0_col7\" class=\"data row0 col7\" >51.81%</td>\n",
       "      <td id=\"T_6bd6e_row0_col8\" class=\"data row0 col8\" >54.41%</td>\n",
       "      <td id=\"T_6bd6e_row0_col9\" class=\"data row0 col9\" >35.21%</td>\n",
       "      <td id=\"T_6bd6e_row0_col10\" class=\"data row0 col10\" >30.12%</td>\n",
       "      <td id=\"T_6bd6e_row0_col11\" class=\"data row0 col11\" >30.88%</td>\n",
       "      <td id=\"T_6bd6e_row0_col12\" class=\"data row0 col12\" >49.30%</td>\n",
       "    </tr>\n",
       "    <tr>\n",
       "      <th id=\"T_6bd6e_level0_row1\" class=\"row_heading level0 row1\" >1</th>\n",
       "      <td id=\"T_6bd6e_row1_col0\" class=\"data row1 col0\" >Baltimore Symphony Orchestra</td>\n",
       "      <td id=\"T_6bd6e_row1_col1\" class=\"data row1 col1\" >3.80%</td>\n",
       "      <td id=\"T_6bd6e_row1_col2\" class=\"data row1 col2\" >8.97%</td>\n",
       "      <td id=\"T_6bd6e_row1_col3\" class=\"data row1 col3\" >2.27%</td>\n",
       "      <td id=\"T_6bd6e_row1_col4\" class=\"data row1 col4\" >21.52%</td>\n",
       "      <td id=\"T_6bd6e_row1_col5\" class=\"data row1 col5\" >15.38%</td>\n",
       "      <td id=\"T_6bd6e_row1_col6\" class=\"data row1 col6\" >20.45%</td>\n",
       "      <td id=\"T_6bd6e_row1_col7\" class=\"data row1 col7\" >37.97%</td>\n",
       "      <td id=\"T_6bd6e_row1_col8\" class=\"data row1 col8\" >29.49%</td>\n",
       "      <td id=\"T_6bd6e_row1_col9\" class=\"data row1 col9\" >32.95%</td>\n",
       "      <td id=\"T_6bd6e_row1_col10\" class=\"data row1 col10\" >36.71%</td>\n",
       "      <td id=\"T_6bd6e_row1_col11\" class=\"data row1 col11\" >46.15%</td>\n",
       "      <td id=\"T_6bd6e_row1_col12\" class=\"data row1 col12\" >44.32%</td>\n",
       "    </tr>\n",
       "    <tr>\n",
       "      <th id=\"T_6bd6e_level0_row2\" class=\"row_heading level0 row2\" >2</th>\n",
       "      <td id=\"T_6bd6e_row2_col0\" class=\"data row2 col0\" >Boston Symphony Orchestra</td>\n",
       "      <td id=\"T_6bd6e_row2_col1\" class=\"data row2 col1\" >1.25%</td>\n",
       "      <td id=\"T_6bd6e_row2_col2\" class=\"data row2 col2\" >2.53%</td>\n",
       "      <td id=\"T_6bd6e_row2_col3\" class=\"data row2 col3\" >2.56%</td>\n",
       "      <td id=\"T_6bd6e_row2_col4\" class=\"data row2 col4\" >20.00%</td>\n",
       "      <td id=\"T_6bd6e_row2_col5\" class=\"data row2 col5\" >18.99%</td>\n",
       "      <td id=\"T_6bd6e_row2_col6\" class=\"data row2 col6\" >15.38%</td>\n",
       "      <td id=\"T_6bd6e_row2_col7\" class=\"data row2 col7\" >42.50%</td>\n",
       "      <td id=\"T_6bd6e_row2_col8\" class=\"data row2 col8\" >35.44%</td>\n",
       "      <td id=\"T_6bd6e_row2_col9\" class=\"data row2 col9\" >37.18%</td>\n",
       "      <td id=\"T_6bd6e_row2_col10\" class=\"data row2 col10\" >36.25%</td>\n",
       "      <td id=\"T_6bd6e_row2_col11\" class=\"data row2 col11\" >43.04%</td>\n",
       "      <td id=\"T_6bd6e_row2_col12\" class=\"data row2 col12\" >44.87%</td>\n",
       "    </tr>\n",
       "    <tr>\n",
       "      <th id=\"T_6bd6e_level0_row3\" class=\"row_heading level0 row3\" >3</th>\n",
       "      <td id=\"T_6bd6e_row3_col0\" class=\"data row3 col0\" >Chicago Symphony Orchestra</td>\n",
       "      <td id=\"T_6bd6e_row3_col1\" class=\"data row3 col1\" >6.87%</td>\n",
       "      <td id=\"T_6bd6e_row3_col2\" class=\"data row3 col2\" >3.48%</td>\n",
       "      <td id=\"T_6bd6e_row3_col3\" class=\"data row3 col3\" >9.79%</td>\n",
       "      <td id=\"T_6bd6e_row3_col4\" class=\"data row3 col4\" >9.16%</td>\n",
       "      <td id=\"T_6bd6e_row3_col5\" class=\"data row3 col5\" >19.13%</td>\n",
       "      <td id=\"T_6bd6e_row3_col6\" class=\"data row3 col6\" >16.08%</td>\n",
       "      <td id=\"T_6bd6e_row3_col7\" class=\"data row3 col7\" >46.56%</td>\n",
       "      <td id=\"T_6bd6e_row3_col8\" class=\"data row3 col8\" >33.04%</td>\n",
       "      <td id=\"T_6bd6e_row3_col9\" class=\"data row3 col9\" >39.16%</td>\n",
       "      <td id=\"T_6bd6e_row3_col10\" class=\"data row3 col10\" >37.40%</td>\n",
       "      <td id=\"T_6bd6e_row3_col11\" class=\"data row3 col11\" >44.35%</td>\n",
       "      <td id=\"T_6bd6e_row3_col12\" class=\"data row3 col12\" >34.97%</td>\n",
       "    </tr>\n",
       "    <tr>\n",
       "      <th id=\"T_6bd6e_level0_row4\" class=\"row_heading level0 row4\" >5</th>\n",
       "      <td id=\"T_6bd6e_row4_col0\" class=\"data row4 col0\" >Cleveland Orchestra</td>\n",
       "      <td id=\"T_6bd6e_row4_col1\" class=\"data row4 col1\" >2.94%</td>\n",
       "      <td id=\"T_6bd6e_row4_col2\" class=\"data row4 col2\" >1.37%</td>\n",
       "      <td id=\"T_6bd6e_row4_col3\" class=\"data row4 col3\" >6.93%</td>\n",
       "      <td id=\"T_6bd6e_row4_col4\" class=\"data row4 col4\" >17.65%</td>\n",
       "      <td id=\"T_6bd6e_row4_col5\" class=\"data row4 col5\" >15.07%</td>\n",
       "      <td id=\"T_6bd6e_row4_col6\" class=\"data row4 col6\" >14.85%</td>\n",
       "      <td id=\"T_6bd6e_row4_col7\" class=\"data row4 col7\" >38.24%</td>\n",
       "      <td id=\"T_6bd6e_row4_col8\" class=\"data row4 col8\" >42.47%</td>\n",
       "      <td id=\"T_6bd6e_row4_col9\" class=\"data row4 col9\" >32.67%</td>\n",
       "      <td id=\"T_6bd6e_row4_col10\" class=\"data row4 col10\" >41.18%</td>\n",
       "      <td id=\"T_6bd6e_row4_col11\" class=\"data row4 col11\" >41.10%</td>\n",
       "      <td id=\"T_6bd6e_row4_col12\" class=\"data row4 col12\" >45.54%</td>\n",
       "    </tr>\n",
       "    <tr>\n",
       "      <th id=\"T_6bd6e_level0_row5\" class=\"row_heading level0 row5\" >6</th>\n",
       "      <td id=\"T_6bd6e_row5_col0\" class=\"data row5 col0\" >Dallas Symphony Orchestra</td>\n",
       "      <td id=\"T_6bd6e_row5_col1\" class=\"data row5 col1\" >11.32%</td>\n",
       "      <td id=\"T_6bd6e_row5_col2\" class=\"data row5 col2\" >6.12%</td>\n",
       "      <td id=\"T_6bd6e_row5_col3\" class=\"data row5 col3\" >2.94%</td>\n",
       "      <td id=\"T_6bd6e_row5_col4\" class=\"data row5 col4\" >16.98%</td>\n",
       "      <td id=\"T_6bd6e_row5_col5\" class=\"data row5 col5\" >10.20%</td>\n",
       "      <td id=\"T_6bd6e_row5_col6\" class=\"data row5 col6\" >13.24%</td>\n",
       "      <td id=\"T_6bd6e_row5_col7\" class=\"data row5 col7\" >33.96%</td>\n",
       "      <td id=\"T_6bd6e_row5_col8\" class=\"data row5 col8\" >42.86%</td>\n",
       "      <td id=\"T_6bd6e_row5_col9\" class=\"data row5 col9\" >45.59%</td>\n",
       "      <td id=\"T_6bd6e_row5_col10\" class=\"data row5 col10\" >37.74%</td>\n",
       "      <td id=\"T_6bd6e_row5_col11\" class=\"data row5 col11\" >40.82%</td>\n",
       "      <td id=\"T_6bd6e_row5_col12\" class=\"data row5 col12\" >38.24%</td>\n",
       "    </tr>\n",
       "    <tr>\n",
       "      <th id=\"T_6bd6e_level0_row6\" class=\"row_heading level0 row6\" >7</th>\n",
       "      <td id=\"T_6bd6e_row6_col0\" class=\"data row6 col0\" >Detroit Symphony Orchestra</td>\n",
       "      <td id=\"T_6bd6e_row6_col1\" class=\"data row6 col1\" >1.09%</td>\n",
       "      <td id=\"T_6bd6e_row6_col2\" class=\"data row6 col2\" >1.32%</td>\n",
       "      <td id=\"T_6bd6e_row6_col3\" class=\"data row6 col3\" >7.41%</td>\n",
       "      <td id=\"T_6bd6e_row6_col4\" class=\"data row6 col4\" >14.13%</td>\n",
       "      <td id=\"T_6bd6e_row6_col5\" class=\"data row6 col5\" >14.47%</td>\n",
       "      <td id=\"T_6bd6e_row6_col6\" class=\"data row6 col6\" >34.57%</td>\n",
       "      <td id=\"T_6bd6e_row6_col7\" class=\"data row6 col7\" >42.39%</td>\n",
       "      <td id=\"T_6bd6e_row6_col8\" class=\"data row6 col8\" >50.00%</td>\n",
       "      <td id=\"T_6bd6e_row6_col9\" class=\"data row6 col9\" >16.05%</td>\n",
       "      <td id=\"T_6bd6e_row6_col10\" class=\"data row6 col10\" >42.39%</td>\n",
       "      <td id=\"T_6bd6e_row6_col11\" class=\"data row6 col11\" >34.21%</td>\n",
       "      <td id=\"T_6bd6e_row6_col12\" class=\"data row6 col12\" >41.98%</td>\n",
       "    </tr>\n",
       "    <tr>\n",
       "      <th id=\"T_6bd6e_level0_row7\" class=\"row_heading level0 row7\" >8</th>\n",
       "      <td id=\"T_6bd6e_row7_col0\" class=\"data row7 col0\" >Houston Symphony</td>\n",
       "      <td id=\"T_6bd6e_row7_col1\" class=\"data row7 col1\" >4.08%</td>\n",
       "      <td id=\"T_6bd6e_row7_col2\" class=\"data row7 col2\" >1.67%</td>\n",
       "      <td id=\"T_6bd6e_row7_col3\" class=\"data row7 col3\" >3.45%</td>\n",
       "      <td id=\"T_6bd6e_row7_col4\" class=\"data row7 col4\" >22.45%</td>\n",
       "      <td id=\"T_6bd6e_row7_col5\" class=\"data row7 col5\" >11.67%</td>\n",
       "      <td id=\"T_6bd6e_row7_col6\" class=\"data row7 col6\" >18.97%</td>\n",
       "      <td id=\"T_6bd6e_row7_col7\" class=\"data row7 col7\" >40.82%</td>\n",
       "      <td id=\"T_6bd6e_row7_col8\" class=\"data row7 col8\" >41.67%</td>\n",
       "      <td id=\"T_6bd6e_row7_col9\" class=\"data row7 col9\" >39.66%</td>\n",
       "      <td id=\"T_6bd6e_row7_col10\" class=\"data row7 col10\" >32.65%</td>\n",
       "      <td id=\"T_6bd6e_row7_col11\" class=\"data row7 col11\" >45.00%</td>\n",
       "      <td id=\"T_6bd6e_row7_col12\" class=\"data row7 col12\" >37.93%</td>\n",
       "    </tr>\n",
       "    <tr>\n",
       "      <th id=\"T_6bd6e_level0_row8\" class=\"row_heading level0 row8\" >9</th>\n",
       "      <td id=\"T_6bd6e_row8_col0\" class=\"data row8 col0\" >Los Angeles Philharmonic</td>\n",
       "      <td id=\"T_6bd6e_row8_col1\" class=\"data row8 col1\" >4.95%</td>\n",
       "      <td id=\"T_6bd6e_row8_col2\" class=\"data row8 col2\" >3.28%</td>\n",
       "      <td id=\"T_6bd6e_row8_col3\" class=\"data row8 col3\" >0.86%</td>\n",
       "      <td id=\"T_6bd6e_row8_col4\" class=\"data row8 col4\" >15.84%</td>\n",
       "      <td id=\"T_6bd6e_row8_col5\" class=\"data row8 col5\" >18.85%</td>\n",
       "      <td id=\"T_6bd6e_row8_col6\" class=\"data row8 col6\" >13.79%</td>\n",
       "      <td id=\"T_6bd6e_row8_col7\" class=\"data row8 col7\" >27.72%</td>\n",
       "      <td id=\"T_6bd6e_row8_col8\" class=\"data row8 col8\" >23.77%</td>\n",
       "      <td id=\"T_6bd6e_row8_col9\" class=\"data row8 col9\" >33.62%</td>\n",
       "      <td id=\"T_6bd6e_row8_col10\" class=\"data row8 col10\" >51.49%</td>\n",
       "      <td id=\"T_6bd6e_row8_col11\" class=\"data row8 col11\" >54.10%</td>\n",
       "      <td id=\"T_6bd6e_row8_col12\" class=\"data row8 col12\" >51.72%</td>\n",
       "    </tr>\n",
       "    <tr>\n",
       "      <th id=\"T_6bd6e_level0_row9\" class=\"row_heading level0 row9\" >10</th>\n",
       "      <td id=\"T_6bd6e_row9_col0\" class=\"data row9 col0\" >Milwaukee Symphony Orchestra</td>\n",
       "      <td id=\"T_6bd6e_row9_col1\" class=\"data row9 col1\" >5.63%</td>\n",
       "      <td id=\"T_6bd6e_row9_col2\" class=\"data row9 col2\" >1.72%</td>\n",
       "      <td id=\"T_6bd6e_row9_col3\" class=\"data row9 col3\" >3.51%</td>\n",
       "      <td id=\"T_6bd6e_row9_col4\" class=\"data row9 col4\" >14.08%</td>\n",
       "      <td id=\"T_6bd6e_row9_col5\" class=\"data row9 col5\" >13.79%</td>\n",
       "      <td id=\"T_6bd6e_row9_col6\" class=\"data row9 col6\" >19.30%</td>\n",
       "      <td id=\"T_6bd6e_row9_col7\" class=\"data row9 col7\" >35.21%</td>\n",
       "      <td id=\"T_6bd6e_row9_col8\" class=\"data row9 col8\" >41.38%</td>\n",
       "      <td id=\"T_6bd6e_row9_col9\" class=\"data row9 col9\" >36.84%</td>\n",
       "      <td id=\"T_6bd6e_row9_col10\" class=\"data row9 col10\" >45.07%</td>\n",
       "      <td id=\"T_6bd6e_row9_col11\" class=\"data row9 col11\" >43.10%</td>\n",
       "      <td id=\"T_6bd6e_row9_col12\" class=\"data row9 col12\" >40.35%</td>\n",
       "    </tr>\n",
       "    <tr>\n",
       "      <th id=\"T_6bd6e_level0_row10\" class=\"row_heading level0 row10\" >11</th>\n",
       "      <td id=\"T_6bd6e_row10_col0\" class=\"data row10 col0\" >Minnesota Orchestra</td>\n",
       "      <td id=\"T_6bd6e_row10_col1\" class=\"data row10 col1\" >1.30%</td>\n",
       "      <td id=\"T_6bd6e_row10_col2\" class=\"data row10 col2\" >6.58%</td>\n",
       "      <td id=\"T_6bd6e_row10_col3\" class=\"data row10 col3\" >4.29%</td>\n",
       "      <td id=\"T_6bd6e_row10_col4\" class=\"data row10 col4\" >3.90%</td>\n",
       "      <td id=\"T_6bd6e_row10_col5\" class=\"data row10 col5\" >22.37%</td>\n",
       "      <td id=\"T_6bd6e_row10_col6\" class=\"data row10 col6\" >11.43%</td>\n",
       "      <td id=\"T_6bd6e_row10_col7\" class=\"data row10 col7\" >35.06%</td>\n",
       "      <td id=\"T_6bd6e_row10_col8\" class=\"data row10 col8\" >35.53%</td>\n",
       "      <td id=\"T_6bd6e_row10_col9\" class=\"data row10 col9\" >35.71%</td>\n",
       "      <td id=\"T_6bd6e_row10_col10\" class=\"data row10 col10\" >59.74%</td>\n",
       "      <td id=\"T_6bd6e_row10_col11\" class=\"data row10 col11\" >35.53%</td>\n",
       "      <td id=\"T_6bd6e_row10_col12\" class=\"data row10 col12\" >48.57%</td>\n",
       "    </tr>\n",
       "    <tr>\n",
       "      <th id=\"T_6bd6e_level0_row11\" class=\"row_heading level0 row11\" >12</th>\n",
       "      <td id=\"T_6bd6e_row11_col0\" class=\"data row11 col0\" >Nashville Symphony</td>\n",
       "      <td id=\"T_6bd6e_row11_col1\" class=\"data row11 col1\" >1.85%</td>\n",
       "      <td id=\"T_6bd6e_row11_col2\" class=\"data row11 col2\" >9.30%</td>\n",
       "      <td id=\"T_6bd6e_row11_col3\" class=\"data row11 col3\" >6.67%</td>\n",
       "      <td id=\"T_6bd6e_row11_col4\" class=\"data row11 col4\" >18.52%</td>\n",
       "      <td id=\"T_6bd6e_row11_col5\" class=\"data row11 col5\" >20.93%</td>\n",
       "      <td id=\"T_6bd6e_row11_col6\" class=\"data row11 col6\" >11.67%</td>\n",
       "      <td id=\"T_6bd6e_row11_col7\" class=\"data row11 col7\" >35.19%</td>\n",
       "      <td id=\"T_6bd6e_row11_col8\" class=\"data row11 col8\" >34.88%</td>\n",
       "      <td id=\"T_6bd6e_row11_col9\" class=\"data row11 col9\" >18.33%</td>\n",
       "      <td id=\"T_6bd6e_row11_col10\" class=\"data row11 col10\" >44.44%</td>\n",
       "      <td id=\"T_6bd6e_row11_col11\" class=\"data row11 col11\" >34.88%</td>\n",
       "      <td id=\"T_6bd6e_row11_col12\" class=\"data row11 col12\" >63.33%</td>\n",
       "    </tr>\n",
       "    <tr>\n",
       "      <th id=\"T_6bd6e_level0_row12\" class=\"row_heading level0 row12\" >13</th>\n",
       "      <td id=\"T_6bd6e_row12_col0\" class=\"data row12 col0\" >National Symphony Orchestra</td>\n",
       "      <td id=\"T_6bd6e_row12_col1\" class=\"data row12 col1\" >11.48%</td>\n",
       "      <td id=\"T_6bd6e_row12_col2\" class=\"data row12 col2\" >1.37%</td>\n",
       "      <td id=\"T_6bd6e_row12_col3\" class=\"data row12 col3\" >7.81%</td>\n",
       "      <td id=\"T_6bd6e_row12_col4\" class=\"data row12 col4\" >13.11%</td>\n",
       "      <td id=\"T_6bd6e_row12_col5\" class=\"data row12 col5\" >9.59%</td>\n",
       "      <td id=\"T_6bd6e_row12_col6\" class=\"data row12 col6\" >9.38%</td>\n",
       "      <td id=\"T_6bd6e_row12_col7\" class=\"data row12 col7\" >52.46%</td>\n",
       "      <td id=\"T_6bd6e_row12_col8\" class=\"data row12 col8\" >43.84%</td>\n",
       "      <td id=\"T_6bd6e_row12_col9\" class=\"data row12 col9\" >37.50%</td>\n",
       "      <td id=\"T_6bd6e_row12_col10\" class=\"data row12 col10\" >22.95%</td>\n",
       "      <td id=\"T_6bd6e_row12_col11\" class=\"data row12 col11\" >45.21%</td>\n",
       "      <td id=\"T_6bd6e_row12_col12\" class=\"data row12 col12\" >45.31%</td>\n",
       "    </tr>\n",
       "    <tr>\n",
       "      <th id=\"T_6bd6e_level0_row13\" class=\"row_heading level0 row13\" >14</th>\n",
       "      <td id=\"T_6bd6e_row13_col0\" class=\"data row13 col0\" >New York Philharmonic</td>\n",
       "      <td id=\"T_6bd6e_row13_col1\" class=\"data row13 col1\" >2.33%</td>\n",
       "      <td id=\"T_6bd6e_row13_col2\" class=\"data row13 col2\" >1.75%</td>\n",
       "      <td id=\"T_6bd6e_row13_col3\" class=\"data row13 col3\" >1.89%</td>\n",
       "      <td id=\"T_6bd6e_row13_col4\" class=\"data row13 col4\" >14.73%</td>\n",
       "      <td id=\"T_6bd6e_row13_col5\" class=\"data row13 col5\" >11.40%</td>\n",
       "      <td id=\"T_6bd6e_row13_col6\" class=\"data row13 col6\" >18.87%</td>\n",
       "      <td id=\"T_6bd6e_row13_col7\" class=\"data row13 col7\" >31.01%</td>\n",
       "      <td id=\"T_6bd6e_row13_col8\" class=\"data row13 col8\" >38.60%</td>\n",
       "      <td id=\"T_6bd6e_row13_col9\" class=\"data row13 col9\" >42.45%</td>\n",
       "      <td id=\"T_6bd6e_row13_col10\" class=\"data row13 col10\" >51.94%</td>\n",
       "      <td id=\"T_6bd6e_row13_col11\" class=\"data row13 col11\" >48.25%</td>\n",
       "      <td id=\"T_6bd6e_row13_col12\" class=\"data row13 col12\" >36.79%</td>\n",
       "    </tr>\n",
       "    <tr>\n",
       "      <th id=\"T_6bd6e_level0_row14\" class=\"row_heading level0 row14\" >15</th>\n",
       "      <td id=\"T_6bd6e_row14_col0\" class=\"data row14 col0\" >Philadelphia Orchestra</td>\n",
       "      <td id=\"T_6bd6e_row14_col1\" class=\"data row14 col1\" >3.06%</td>\n",
       "      <td id=\"T_6bd6e_row14_col2\" class=\"data row14 col2\" >3.66%</td>\n",
       "      <td id=\"T_6bd6e_row14_col3\" class=\"data row14 col3\" >3.45%</td>\n",
       "      <td id=\"T_6bd6e_row14_col4\" class=\"data row14 col4\" >16.33%</td>\n",
       "      <td id=\"T_6bd6e_row14_col5\" class=\"data row14 col5\" >13.41%</td>\n",
       "      <td id=\"T_6bd6e_row14_col6\" class=\"data row14 col6\" >16.09%</td>\n",
       "      <td id=\"T_6bd6e_row14_col7\" class=\"data row14 col7\" >36.73%</td>\n",
       "      <td id=\"T_6bd6e_row14_col8\" class=\"data row14 col8\" >50.00%</td>\n",
       "      <td id=\"T_6bd6e_row14_col9\" class=\"data row14 col9\" >47.13%</td>\n",
       "      <td id=\"T_6bd6e_row14_col10\" class=\"data row14 col10\" >43.88%</td>\n",
       "      <td id=\"T_6bd6e_row14_col11\" class=\"data row14 col11\" >32.93%</td>\n",
       "      <td id=\"T_6bd6e_row14_col12\" class=\"data row14 col12\" >33.33%</td>\n",
       "    </tr>\n",
       "    <tr>\n",
       "      <th id=\"T_6bd6e_level0_row15\" class=\"row_heading level0 row15\" >18</th>\n",
       "      <td id=\"T_6bd6e_row15_col0\" class=\"data row15 col0\" >San Francisco Symphony</td>\n",
       "      <td id=\"T_6bd6e_row15_col1\" class=\"data row15 col1\" >7.96%</td>\n",
       "      <td id=\"T_6bd6e_row15_col2\" class=\"data row15 col2\" >3.00%</td>\n",
       "      <td id=\"T_6bd6e_row15_col3\" class=\"data row15 col3\" >5.43%</td>\n",
       "      <td id=\"T_6bd6e_row15_col4\" class=\"data row15 col4\" >24.78%</td>\n",
       "      <td id=\"T_6bd6e_row15_col5\" class=\"data row15 col5\" >22.00%</td>\n",
       "      <td id=\"T_6bd6e_row15_col6\" class=\"data row15 col6\" >14.13%</td>\n",
       "      <td id=\"T_6bd6e_row15_col7\" class=\"data row15 col7\" >24.78%</td>\n",
       "      <td id=\"T_6bd6e_row15_col8\" class=\"data row15 col8\" >36.00%</td>\n",
       "      <td id=\"T_6bd6e_row15_col9\" class=\"data row15 col9\" >38.04%</td>\n",
       "      <td id=\"T_6bd6e_row15_col10\" class=\"data row15 col10\" >42.48%</td>\n",
       "      <td id=\"T_6bd6e_row15_col11\" class=\"data row15 col11\" >39.00%</td>\n",
       "      <td id=\"T_6bd6e_row15_col12\" class=\"data row15 col12\" >42.39%</td>\n",
       "    </tr>\n",
       "    <tr>\n",
       "      <th id=\"T_6bd6e_level0_row16\" class=\"row_heading level0 row16\" >20</th>\n",
       "      <td id=\"T_6bd6e_row16_col0\" class=\"data row16 col0\" >St. Louis Symphony</td>\n",
       "      <td id=\"T_6bd6e_row16_col1\" class=\"data row16 col1\" >6.73%</td>\n",
       "      <td id=\"T_6bd6e_row16_col2\" class=\"data row16 col2\" >3.53%</td>\n",
       "      <td id=\"T_6bd6e_row16_col3\" class=\"data row16 col3\" >6.41%</td>\n",
       "      <td id=\"T_6bd6e_row16_col4\" class=\"data row16 col4\" >15.38%</td>\n",
       "      <td id=\"T_6bd6e_row16_col5\" class=\"data row16 col5\" >10.59%</td>\n",
       "      <td id=\"T_6bd6e_row16_col6\" class=\"data row16 col6\" >20.51%</td>\n",
       "      <td id=\"T_6bd6e_row16_col7\" class=\"data row16 col7\" >49.04%</td>\n",
       "      <td id=\"T_6bd6e_row16_col8\" class=\"data row16 col8\" >44.71%</td>\n",
       "      <td id=\"T_6bd6e_row16_col9\" class=\"data row16 col9\" >30.77%</td>\n",
       "      <td id=\"T_6bd6e_row16_col10\" class=\"data row16 col10\" >28.85%</td>\n",
       "      <td id=\"T_6bd6e_row16_col11\" class=\"data row16 col11\" >41.18%</td>\n",
       "      <td id=\"T_6bd6e_row16_col12\" class=\"data row16 col12\" >42.31%</td>\n",
       "    </tr>\n",
       "  </tbody>\n",
       "</table>\n"
      ],
      "text/plain": [
       "<pandas.io.formats.style.Styler at 0x7f8007785460>"
      ]
     },
     "execution_count": 13,
     "metadata": {},
     "output_type": "execute_result"
    }
   ],
   "source": [
    "# Calculate the proportion of the number of performances performed by each symphony \n",
    "# orchestra for each period of the year to the number of performances throughout the year\n",
    "# and show it as a percentage\n",
    "cols14 = ['Baroque-2014','Classical-2014','Romanticism-2014','Contemporary-2014']\n",
    "cols15 = ['Baroque-2015','Classical-2015','Romanticism-2015','Contemporary-2015']\n",
    "cols16 = ['Baroque-2016','Classical-2016','Romanticism-2016','Contemporary-2016']\n",
    "df_merged[cols14] = df_merged[cols14].div(df_merged[cols14].sum(axis=1), axis=0)\n",
    "df_merged[cols15] = df_merged[cols15].div(df_merged[cols15].sum(axis=1), axis=0)\n",
    "df_merged[cols16] = df_merged[cols16].div(df_merged[cols16].sum(axis=1), axis=0)\n",
    "\n",
    "df_merged.style.format({\n",
    "    'Baroque-2014': '{:,.2%}',\n",
    "    'Classical-2014': '{:,.2%}',\n",
    "    'Romanticism-2014': '{:,.2%}',\n",
    "    'Contemporary-2014': '{:,.2%}',\n",
    "    \n",
    "    'Baroque-2015': '{:,.2%}',\n",
    "    'Classical-2015': '{:,.2%}',\n",
    "    'Romanticism-2015': '{:,.2%}',\n",
    "    'Contemporary-2015': '{:,.2%}',\n",
    "    \n",
    "    'Baroque-2016': '{:,.2%}',\n",
    "    'Classical-2016': '{:,.2%}',\n",
    "    'Romanticism-2016': '{:,.2%}',\n",
    "    'Contemporary-2016': '{:,.2%}',\n",
    "})"
   ]
  },
  {
   "cell_type": "markdown",
   "id": "c749399e",
   "metadata": {},
   "source": [
    "Of the 20 symphony orchestras given the full data. The above table is obtained by calculating (the total number of performances/number of performances of all works) in a certain period of each year. We can see the proportion of performances in each period of the year to the total performances. Overall, the detailed data can also be seen in line with the trend shown by the previous violinplot. The American Symphony Orchestra performs the least proportion of works from the Baroque period, followed by the classical period, and generally has the largest proportion of contemporary works."
   ]
  },
  {
   "cell_type": "markdown",
   "id": "0d690529",
   "metadata": {},
   "source": [
    "It can be seen from the histogram that the number of performances for the works of the Baroque period is very random. There may be many performances in one year, but the number of performances in other years decreases sharply. No specific trend can be seen."
   ]
  },
  {
   "cell_type": "code",
   "execution_count": 14,
   "id": "be2fbe31",
   "metadata": {},
   "outputs": [
    {
     "data": {
      "text/plain": [
       "Text(0, 0.5, 'Performance ratio')"
      ]
     },
     "execution_count": 14,
     "metadata": {},
     "output_type": "execute_result"
    },
    {
     "data": {
      "image/png": "[encoded data removed]",
      "text/plain": [
       "<Figure size 648x576 with 1 Axes>"
      ]
     },
     "metadata": {
      "needs_background": "light"
     },
     "output_type": "display_data"
    }
   ],
   "source": [
    "# Histogram of the annual share of each symphony orchestra in the Baroque period\n",
    "ax = df_merged.plot(x=\"Orchestra\", y=[\"Baroque-2014\", \"Baroque-2015\", \"Baroque-2016\"], kind=\"bar\", figsize=(9, 8), title='Baroque period works performed in 2014-2017')\n",
    "ax.set_xlabel(\"Orchestra\")\n",
    "ax.set_ylabel(\"Performance ratio\")"
   ]
  },
  {
   "cell_type": "markdown",
   "id": "701cd5b9",
   "metadata": {},
   "source": [
    "It can be seen from the following bar chart that the performance frequency of works in the classical period is much more stable than that in the baroque period. Except for individual symphony orchestras, the annual performance frequency is almost the same in proportion."
   ]
  },
  {
   "cell_type": "code",
   "execution_count": 15,
   "id": "bb2c9e4f",
   "metadata": {},
   "outputs": [
    {
     "data": {
      "text/plain": [
       "Text(0, 0.5, 'Performance ratio')"
      ]
     },
     "execution_count": 15,
     "metadata": {},
     "output_type": "execute_result"
    },
    {
     "data": {
      "image/png": "[encoded data removed]",
      "text/plain": [
       "<Figure size 648x576 with 1 Axes>"
      ]
     },
     "metadata": {
      "needs_background": "light"
     },
     "output_type": "display_data"
    }
   ],
   "source": [
    "# Histogram of the annual share of each symphony orchestra in the Classical period\n",
    "ax = df_merged.plot(x=\"Orchestra\", y=[\"Classical-2014\", \"Classical-2015\", \"Classical-2016\"], kind=\"bar\", figsize=(9, 8), title='Classical period works performed in 2014-2017')\n",
    "ax.set_xlabel(\"Orchestra\")\n",
    "ax.set_ylabel(\"Performance ratio\")"
   ]
  },
  {
   "cell_type": "markdown",
   "id": "0d72d463",
   "metadata": {},
   "source": [
    "The playing frequency of works of the Romantic period is significantly higher, and the frequency of playing is relatively stable compared to the Baroque period. In fact, during the Romantic period, music developed more widely, and the number of composers was much higher than in the previous two periods. Different from the musical style of the first two periods, the musical style, form and harmony of the Romantic period were varied. Therefore, the symphony orchestra has far more repertoire choices than the previous two periods, so it is inevitable that the selection ratio will exceed the previous two periods."
   ]
  },
  {
   "cell_type": "code",
   "execution_count": 16,
   "id": "07590e34",
   "metadata": {
    "scrolled": false
   },
   "outputs": [
    {
     "data": {
      "text/plain": [
       "Text(0, 0.5, 'Performance ratio')"
      ]
     },
     "execution_count": 16,
     "metadata": {},
     "output_type": "execute_result"
    },
    {
     "data": {
      "image/png": "[encoded data removed]",
      "text/plain": [
       "<Figure size 648x576 with 1 Axes>"
      ]
     },
     "metadata": {
      "needs_background": "light"
     },
     "output_type": "display_data"
    }
   ],
   "source": [
    "# Histogram of the annual share of each symphony orchestra in the Romanticism period\n",
    "ax = df_merged.plot(x=\"Orchestra\", y=[\"Romanticism-2014\", \"Romanticism-2015\", \"Romanticism-2016\"], kind=\"bar\", figsize=(9, 8), title='Romanticism period works performed in 2014-2017')\n",
    "ax.set_xlabel(\"Orchestra\")\n",
    "ax.set_ylabel(\"Performance ratio\")"
   ]
  },
  {
   "cell_type": "markdown",
   "id": "4ccb43a8",
   "metadata": {},
   "source": [
    "We can see that the frequency of performances is the highest in the selection of contemporary works, and in the three years, most of the orchestras show a small growth trend."
   ]
  },
  {
   "cell_type": "code",
   "execution_count": 17,
   "id": "e33e912d",
   "metadata": {},
   "outputs": [
    {
     "data": {
      "text/plain": [
       "Text(0, 0.5, 'Performance ratio')"
      ]
     },
     "execution_count": 17,
     "metadata": {},
     "output_type": "execute_result"
    },
    {
     "data": {
      "image/png": "[encoded data removed]",
      "text/plain": [
       "<Figure size 648x576 with 1 Axes>"
      ]
     },
     "metadata": {
      "needs_background": "light"
     },
     "output_type": "display_data"
    }
   ],
   "source": [
    "# Histogram of the annual share of each symphony orchestra in the Contemporary period\n",
    "ax = df_merged.plot(x=\"Orchestra\", y=[\"Contemporary-2014\", \"Contemporary-2015\", \"Contemporary-2016\"], kind=\"bar\", figsize=(9, 8), title='Contemporary period works performed in 2014-2017')\n",
    "ax.set_xlabel(\"Orchestra\")\n",
    "ax.set_ylabel(\"Performance ratio\")"
   ]
  },
  {
   "cell_type": "markdown",
   "id": "f1cd2138",
   "metadata": {},
   "source": [
    "It can be seen from the above data that American symphony orchestras prefer to choose to perform contemporary works. In the next part, I will focus on analyzing trends in contemporary works performed by American symphony orchestras."
   ]
  },
  {
   "cell_type": "markdown",
   "id": "a8e36e99",
   "metadata": {},
   "source": [
    "## Part 4: Hypothesis Testing"
   ]
  },
  {
   "cell_type": "markdown",
   "id": "0a6c1978",
   "metadata": {},
   "source": [
    "It can be seen from the above analysis that in the three-year performance season from 2014 to 2017, the proportion of performing contemporary works is the highest, and the proportion of performances can be seen from the bar chart, and there is a slight increase in the proportion of performances each year. Under this premise, it is predicted that the proportion of American symphony orchestras performing contemporary works will remain stable and gradually increase in the future."
   ]
  },
  {
   "cell_type": "markdown",
   "id": "8f4b76e3",
   "metadata": {},
   "source": [
    "Next I integrated the performance data of contemporary works in a table."
   ]
  },
  {
   "cell_type": "code",
   "execution_count": 18,
   "id": "e13a30bb",
   "metadata": {},
   "outputs": [
    {
     "data": {
      "text/html": [
       "<div>\n",
       "<style scoped>\n",
       "    .dataframe tbody tr th:only-of-type {\n",
       "        vertical-align: middle;\n",
       "    }\n",
       "\n",
       "    .dataframe tbody tr th {\n",
       "        vertical-align: top;\n",
       "    }\n",
       "\n",
       "    .dataframe thead th {\n",
       "        text-align: right;\n",
       "    }\n",
       "</style>\n",
       "<table border=\"1\" class=\"dataframe\">\n",
       "  <thead>\n",
       "    <tr style=\"text-align: right;\">\n",
       "      <th></th>\n",
       "      <th>Orchestra</th>\n",
       "      <th>Year</th>\n",
       "      <th>Value</th>\n",
       "      <th>Perid</th>\n",
       "    </tr>\n",
       "  </thead>\n",
       "  <tbody>\n",
       "    <tr>\n",
       "      <th>153</th>\n",
       "      <td>Atlanta Symphony Orchestra</td>\n",
       "      <td>2014</td>\n",
       "      <td>0.301205</td>\n",
       "      <td>Contemporary</td>\n",
       "    </tr>\n",
       "    <tr>\n",
       "      <th>154</th>\n",
       "      <td>Baltimore Symphony Orchestra</td>\n",
       "      <td>2014</td>\n",
       "      <td>0.367089</td>\n",
       "      <td>Contemporary</td>\n",
       "    </tr>\n",
       "    <tr>\n",
       "      <th>155</th>\n",
       "      <td>Boston Symphony Orchestra</td>\n",
       "      <td>2014</td>\n",
       "      <td>0.362500</td>\n",
       "      <td>Contemporary</td>\n",
       "    </tr>\n",
       "    <tr>\n",
       "      <th>156</th>\n",
       "      <td>Chicago Symphony Orchestra</td>\n",
       "      <td>2014</td>\n",
       "      <td>0.374046</td>\n",
       "      <td>Contemporary</td>\n",
       "    </tr>\n",
       "    <tr>\n",
       "      <th>157</th>\n",
       "      <td>Cleveland Orchestra</td>\n",
       "      <td>2014</td>\n",
       "      <td>0.411765</td>\n",
       "      <td>Contemporary</td>\n",
       "    </tr>\n",
       "  </tbody>\n",
       "</table>\n",
       "</div>"
      ],
      "text/plain": [
       "                        Orchestra  Year     Value         Perid\n",
       "153    Atlanta Symphony Orchestra  2014  0.301205  Contemporary\n",
       "154  Baltimore Symphony Orchestra  2014  0.367089  Contemporary\n",
       "155     Boston Symphony Orchestra  2014  0.362500  Contemporary\n",
       "156    Chicago Symphony Orchestra  2014  0.374046  Contemporary\n",
       "157           Cleveland Orchestra  2014  0.411765  Contemporary"
      ]
     },
     "execution_count": 18,
     "metadata": {},
     "output_type": "execute_result"
    }
   ],
   "source": [
    "# Extract data about contemporary works from the performance ratio table above and reframe it\n",
    "df_merged = df_merged.melt(id_vars=[\"Orchestra\"], \n",
    "        var_name=\"Year\", \n",
    "        value_name=\"Value\")\n",
    "df_merged[[\"Perid\", \"Year\"]] = df_merged[\"Year\"].str.split('-', 1, expand=True)\n",
    "df_merged1 = df_merged[(df_merged.Perid == \"Contemporary\")]\n",
    "df_merged1.head()"
   ]
  },
  {
   "cell_type": "markdown",
   "id": "bd7fe43e",
   "metadata": {},
   "source": [
    "Through the scatterplot, it can be seen that the frequency of playing, whether it is the lowest proportion or the highest proportion, has steadily increased over the three years. There are individual outliers, but they do not affect the general trend."
   ]
  },
  {
   "cell_type": "code",
   "execution_count": 19,
   "id": "d80a1cfd",
   "metadata": {
    "scrolled": true
   },
   "outputs": [
    {
     "data": {
      "image/png": "[encoded data removed]",
      "text/plain": [
       "<Figure size 432x288 with 1 Axes>"
      ]
     },
     "metadata": {
      "needs_background": "light"
     },
     "output_type": "display_data"
    }
   ],
   "source": [
    "# Draw a scatterplot to reflect the performance data of contemporary works in the past three years\n",
    "df_merged1 = df_merged[(df_merged.Perid == \"Contemporary\")]\n",
    "sns.scatterplot(x = \"Year\", y = \"Value\", data = df_merged1)\n",
    "plt.title(\"Contemporary Works Perform in 2014-2017\")\n",
    "plt.xlabel(\"Years\")\n",
    "plt.ylabel(\"Contemporary Works Perform Radio\")\n",
    "plt.show()"
   ]
  },
  {
   "cell_type": "markdown",
   "id": "ad9e7843",
   "metadata": {},
   "source": [
    "It can also be seen from the violinplot that the central area of the violin has a slight rise."
   ]
  },
  {
   "cell_type": "code",
   "execution_count": 20,
   "id": "31fc16d1",
   "metadata": {},
   "outputs": [
    {
     "data": {
      "image/png": "[encoded data removed]",
      "text/plain": [
       "<Figure size 432x288 with 1 Axes>"
      ]
     },
     "metadata": {
      "needs_background": "light"
     },
     "output_type": "display_data"
    }
   ],
   "source": [
    "# Draw violinplot based on the above data\n",
    "sns.violinplot(x = \"Year\", y = \"Value\", data = df_merged1)\n",
    "plt.title(\"Contemporary Works Perform in 2014-2017 - Violin\")\n",
    "plt.xlabel(\"Years\")\n",
    "plt.ylabel(\"Contemporary Works Perform Radio\")\n",
    "plt.show()"
   ]
  },
  {
   "cell_type": "markdown",
   "id": "32cb73fc",
   "metadata": {},
   "source": [
    "Predicted by linear regression, we can see in the Residual plot that the performance frequency prediction for contemporary works is within a stable range."
   ]
  },
  {
   "cell_type": "code",
   "execution_count": 21,
   "id": "5ada46e5",
   "metadata": {
    "scrolled": false
   },
   "outputs": [
    {
     "data": {
      "image/png": "[encoded data removed]",
      "text/plain": [
       "<Figure size 432x288 with 1 Axes>"
      ]
     },
     "metadata": {
      "needs_background": "light"
     },
     "output_type": "display_data"
    }
   ],
   "source": [
    "lm = linear_model.LinearRegression()\n",
    "\n",
    "# Train the model using the training sets\n",
    "X = df_merged1[\"Year\"].to_numpy().reshape(-1, 1)\n",
    "Y = df_merged1[\"Value\"].to_numpy()\n",
    "lm.fit(X, Y)\n",
    "\n",
    "# Plot the residuals\n",
    "df_merged1[\"Prediction\"] = lm.predict(X)\n",
    "df_merged1[\"Residual\"] = list(Y - df_merged1[\"Prediction\"])\n",
    "sns.violinplot(x = \"Year\", y = \"Residual\", data = df_merged1)\n",
    "plt.title(\"Violin Plot of Residuals vs Year\")\n",
    "plt.xlabel(\"Years\")\n",
    "plt.ylabel(\"Residuals\")\n",
    "plt.show()"
   ]
  },
  {
   "cell_type": "markdown",
   "id": "e793d5d2",
   "metadata": {},
   "source": [
    "From the above analysis, it can be seen that even though there is a slight increase in the frequency of performing contemporary works from the scatterplot, in the predicted results, the proportion of performing contemporary works remains stable."
   ]
  },
  {
   "cell_type": "markdown",
   "id": "7aa8c16e",
   "metadata": {},
   "source": [
    "## Part 5: Conclusion"
   ]
  },
  {
   "cell_type": "markdown",
   "id": "f1c51b4c",
   "metadata": {},
   "source": [
    "I occasionally see concerns about the state of classical music, and that \"classical music is dead\" in some news and commentator reports. By consulting friends in the classical music industry, I learned that the performance of classical music is not ideal. Perhaps many people's impression of classical music is inseparable from the European court culture, and they think that classical music is outdated compared to popular music (including I once thought so). But in fact there are a large number of contemporary classical musicians still active on the stage and creating contemporary classical music."
   ]
  },
  {
   "cell_type": "markdown",
   "id": "0b6d59ff",
   "metadata": {},
   "source": [
    "It can be seen from the above analysis that in the actual classical music performance market, the symphony orchestra is not limited to the classical music works selected for performance in the early stage. Every year in the music season, while retaining the performance of classic classical music, they also give 30%-40%, or even more, to perform contemporary works. They have given a lot of space for modern works and more performance opportunities for more contemporary composers, promoting the development of contemporary classical music. Perhaps maintaining the frequency of contemporary compositions in this way (or increasing it a bit) can improve the status quo of classical music through long-term development, giving contemporary composers more room to grow, and attracting a wider audience to understand classical music."
   ]
  }
 ],
 "metadata": {
  "kernelspec": {
   "display_name": "Python 3 (ipykernel)",
   "language": "python",
   "name": "python3"
  },
  "language_info": {
   "codemirror_mode": {
    "name": "ipython",
    "version": 3
   },
   "file_extension": ".py",
   "mimetype": "text/x-python",
   "name": "python",
   "nbconvert_exporter": "python",
   "pygments_lexer": "ipython3",
   "version": "3.9.7"
  }
 },
 "nbformat": 4,
 "nbformat_minor": 5
}
